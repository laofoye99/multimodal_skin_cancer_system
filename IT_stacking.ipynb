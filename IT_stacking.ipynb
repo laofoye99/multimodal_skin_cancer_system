{
 "cells": [
  {
   "cell_type": "code",
   "execution_count": 1,
   "metadata": {},
   "outputs": [],
   "source": [
    "import os\n",
    "\n",
    "import numpy as np\n",
    "import pandas as pd\n",
    "from sklearn.linear_model import LogisticRegression\n",
    "from sklearn.svm import SVC\n",
    "from sklearn.ensemble import RandomForestClassifier, StackingClassifier\n",
    "from xgboost import XGBClassifier\n",
    "from sklearn.neighbors import KNeighborsClassifier\n",
    "from lightgbm import LGBMClassifier\n",
    "\n",
    "from sklearn.experimental import enable_iterative_imputer\n",
    "from sklearn.impute import IterativeImputer\n",
    "from sklearn.preprocessing import LabelEncoder, MinMaxScaler\n",
    "from sklearn.metrics import classification_report\n",
    "\n",
    "import joblib"
   ]
  },
  {
   "cell_type": "code",
   "execution_count": 2,
   "metadata": {},
   "outputs": [],
   "source": [
    "data_path = 'G:\\\\HSUHK\\\\COM6003\\\\project\\\\archive'\n",
    "meta_df = pd.read_csv(data_path + '\\\\metadata.csv')  # original dataset\n",
    "img_train_2 = pd.read_csv(data_path+'\\\\meta_input_2.csv')\n",
    "img_train_6 = pd.read_csv(data_path+'\\\\meta_input_6.csv')\n",
    "img_val_2 = pd.read_csv(data_path+'\\\\meta_val_2.csv')\n",
    "img_val_6 = pd.read_csv(data_path+'\\\\meta_val_6.csv')\n",
    "img_test_2 = pd.read_csv(data_path+'\\\\meta_test_2.csv')\n",
    "img_test_6 = pd.read_csv(data_path+'\\\\meta_test_6.csv')\n",
    "img_index_2 = pd.read_csv(data_path+'\\\\imageIndex2.csv')\n",
    "img_index_6 = pd.read_csv(data_path+'\\\\imageIndex6.csv')"
   ]
  },
  {
   "cell_type": "markdown",
   "metadata": {},
   "source": [
    "# Metadata Processing"
   ]
  },
  {
   "cell_type": "code",
   "execution_count": 3,
   "metadata": {},
   "outputs": [],
   "source": [
    "meta_df.drop(columns=['biopsed','patient_id','lesion_id'],inplace=True)\n",
    "meta_df.replace(['UNK','NaN',np.nan], 'UK',inplace=True)"
   ]
  },
  {
   "cell_type": "code",
   "execution_count": 4,
   "metadata": {},
   "outputs": [],
   "source": [
    "meta_df.replace('UK', np.nan,inplace=True)"
   ]
  },
  {
   "cell_type": "code",
   "execution_count": 5,
   "metadata": {},
   "outputs": [],
   "source": [
    "img_index_6.drop(columns='index',inplace=True)\n",
    "img_index_2.drop(columns='index',inplace=True)"
   ]
  },
  {
   "cell_type": "code",
   "execution_count": 6,
   "metadata": {},
   "outputs": [],
   "source": [
    "x_train_2 = pd.concat([img_train_2,img_val_2],axis=0,ignore_index=True)\n",
    "x_train_6 = pd.concat([img_train_6,img_val_6],axis=0,ignore_index=True)\n",
    "x_test_2 = img_test_2\n",
    "x_test_6 = img_test_6"
   ]
  },
  {
   "cell_type": "code",
   "execution_count": 7,
   "metadata": {},
   "outputs": [],
   "source": [
    "x_train_2.drop(columns=['Unnamed: 0'],inplace=True)\n",
    "x_train_6.drop(columns=['Unnamed: 0'],inplace=True)\n",
    "x_test_2.drop(columns=['Unnamed: 0'],inplace=True)\n",
    "x_test_6.drop(columns=['Unnamed: 0'],inplace=True)"
   ]
  },
  {
   "cell_type": "code",
   "execution_count": 8,
   "metadata": {},
   "outputs": [],
   "source": [
    "x_train_2['img_id'] = x_train_2['0'].str.extract(r'([^\\\\]+\\.png$)',expand=False)\n",
    "x_train_2.drop(columns=['0'],inplace=True)"
   ]
  },
  {
   "cell_type": "code",
   "execution_count": 9,
   "metadata": {},
   "outputs": [],
   "source": [
    "x_train_6['img_id'] = x_train_6['0'].str.extract(r'([^\\\\]+\\.png$)',expand=False)\n",
    "x_train_6.drop(columns=['0'],inplace=True)"
   ]
  },
  {
   "cell_type": "code",
   "execution_count": 10,
   "metadata": {},
   "outputs": [],
   "source": [
    "x_test_2['img_id'] = x_test_2['0'].str.extract(r'([^\\\\]+\\.png$)',expand=False)\n",
    "x_test_2.drop(columns=['0'],inplace=True)"
   ]
  },
  {
   "cell_type": "code",
   "execution_count": 11,
   "metadata": {},
   "outputs": [],
   "source": [
    "x_test_6['img_id'] = x_test_6['0'].str.extract(r'([^\\\\]+\\.png$)',expand=False)\n",
    "x_test_6.drop(columns=['0'],inplace=True)"
   ]
  },
  {
   "cell_type": "code",
   "execution_count": 12,
   "metadata": {},
   "outputs": [],
   "source": [
    "y_train_2 = img_index_2[img_index_2['img_id'].isin(x_train_2['img_id'])]\n",
    "y_train_6 = img_index_6[img_index_6['img_id'].isin(x_train_6['img_id'])]\n",
    "y_test_2 = img_index_2[img_index_2['img_id'].isin(x_test_2['img_id'])]\n",
    "y_test_6 = img_index_6[img_index_6['img_id'].isin(x_test_6['img_id'])]"
   ]
  },
  {
   "cell_type": "code",
   "execution_count": 13,
   "metadata": {},
   "outputs": [],
   "source": [
    "df_train_2 = pd.merge(x_train_2,meta_df,on='img_id',how='inner')\n",
    "df_train_6 = pd.merge(x_train_6,meta_df,on='img_id',how='inner')\n",
    "df_test_2 = pd.merge(x_test_2,meta_df,on='img_id',how='inner')\n",
    "df_test_6 = pd.merge(x_test_6,meta_df,on='img_id',how='inner')"
   ]
  },
  {
   "cell_type": "code",
   "execution_count": 14,
   "metadata": {},
   "outputs": [],
   "source": [
    "df_train_2.drop(columns='diagnostic',inplace=True)\n",
    "df_train_6.drop(columns='diagnostic',inplace=True)\n",
    "df_test_2.drop(columns='diagnostic',inplace=True)\n",
    "df_test_6.drop(columns='diagnostic',inplace=True)"
   ]
  },
  {
   "cell_type": "code",
   "execution_count": 15,
   "metadata": {},
   "outputs": [],
   "source": [
    "df_train_2.replace('UK',np.nan,inplace=True)\n",
    "df_train_6.replace('UK',np.nan,inplace=True)\n",
    "df_test_2.replace('UK',np.nan,inplace=True)\n",
    "df_test_6.replace('UK',np.nan,inplace=True)"
   ]
  },
  {
   "cell_type": "code",
   "execution_count": 16,
   "metadata": {},
   "outputs": [],
   "source": [
    "def preprocess_data(df):\n",
    "    imputer = IterativeImputer()\n",
    "    enc = LabelEncoder()\n",
    "    missing_percentage = round(df.isna().sum()*100/df.shape[0],1)\n",
    "    for col, percentage in missing_percentage.items():\n",
    "        if df[col].dtype == 'object':\n",
    "            if percentage < 10:\n",
    "                df[col] = enc.fit_transform(df[col])\n",
    "                df[col] = imputer.fit_transform(df[[col]])\n",
    "            else:\n",
    "                df[col] = df[col].fillna('Unknown')\n",
    "                df[col] = df[col].astype('str')\n",
    "                df[col] = enc.fit_transform(df[col])\n",
    "                df[col] = df[col].replace(len(enc.classes_), -1).astype('int64')\n",
    "\n",
    "                # output the encode method\n",
    "                encoding_mapping = dict(zip(enc.classes_, range(len(enc.classes_))))\n",
    "                print(f\"Feature '{col}':\")\n",
    "                for category, encoding in encoding_mapping.items():\n",
    "                    if category == 'Unknown':\n",
    "                        print(f\"{category}: -1\")\n",
    "                    else:\n",
    "                        print(f\"{category}: {encoding}\")\n",
    "                print('-' * 30)\n",
    "        else:\n",
    "            if percentage < 10:\n",
    "                df[col] = imputer.fit_transform(df[[col]])\n",
    "            else:\n",
    "                df[col] = df[col].fillna(-1)\n",
    "                df[col] = df[col].astype('int64')\n",
    "\n",
    "    return df"
   ]
  },
  {
   "cell_type": "code",
   "execution_count": 17,
   "metadata": {},
   "outputs": [
    {
     "name": "stdout",
     "output_type": "stream",
     "text": [
      "Feature 'smoke':\n",
      "False: 0\n",
      "True: 1\n",
      "Unknown: -1\n",
      "------------------------------\n",
      "Feature 'drink':\n",
      "False: 0\n",
      "True: 1\n",
      "Unknown: -1\n",
      "------------------------------\n",
      "Feature 'background_father':\n",
      "BRAZIL: 0\n",
      "CZECH: 1\n",
      "GERMANY: 2\n",
      "ITALY: 3\n",
      "NETHERLANDS: 4\n",
      "POLAND: 5\n",
      "POMERANIA: 6\n",
      "PORTUGAL: 7\n",
      "Unknown: -1\n",
      "------------------------------\n",
      "Feature 'background_mother':\n",
      "BRAZIL: 0\n",
      "FRANCE: 1\n",
      "GERMANY: 2\n",
      "ITALY: 3\n",
      "NETHERLANDS: 4\n",
      "POLAND: 5\n",
      "POMERANIA: 6\n",
      "PORTUGAL: 7\n",
      "SPAIN: 8\n",
      "Unknown: -1\n",
      "------------------------------\n",
      "Feature 'pesticide':\n",
      "False: 0\n",
      "True: 1\n",
      "Unknown: -1\n",
      "------------------------------\n",
      "Feature 'gender':\n",
      "FEMALE: 0\n",
      "MALE: 1\n",
      "Unknown: -1\n",
      "------------------------------\n",
      "Feature 'skin_cancer_history':\n",
      "False: 0\n",
      "True: 1\n",
      "Unknown: -1\n",
      "------------------------------\n",
      "Feature 'cancer_history':\n",
      "False: 0\n",
      "True: 1\n",
      "Unknown: -1\n",
      "------------------------------\n",
      "Feature 'has_piped_water':\n",
      "False: 0\n",
      "True: 1\n",
      "Unknown: -1\n",
      "------------------------------\n",
      "Feature 'has_sewage_system':\n",
      "False: 0\n",
      "True: 1\n",
      "Unknown: -1\n",
      "------------------------------\n",
      "Feature 'grew':\n",
      "FALSE: 0\n",
      "TRUE: 1\n",
      "Unknown: -1\n",
      "------------------------------\n",
      "Feature 'changed':\n",
      "FALSE: 0\n",
      "TRUE: 1\n",
      "Unknown: -1\n",
      "------------------------------\n",
      "Feature 'smoke':\n",
      "False: 0\n",
      "True: 1\n",
      "Unknown: -1\n",
      "------------------------------\n",
      "Feature 'drink':\n",
      "False: 0\n",
      "True: 1\n",
      "Unknown: -1\n",
      "------------------------------\n",
      "Feature 'background_father':\n",
      "BRAZIL: 0\n",
      "CZECH: 1\n",
      "GERMANY: 2\n",
      "ITALY: 3\n",
      "NETHERLANDS: 4\n",
      "POMERANIA: 5\n",
      "PORTUGAL: 6\n",
      "SPAIN: 7\n",
      "Unknown: -1\n",
      "------------------------------\n",
      "Feature 'background_mother':\n",
      "BRAZIL: 0\n",
      "FRANCE: 1\n",
      "GERMANY: 2\n",
      "ITALY: 3\n",
      "NETHERLANDS: 4\n",
      "NORWAY: 5\n",
      "POLAND: 6\n",
      "POMERANIA: 7\n",
      "PORTUGAL: 8\n",
      "Unknown: -1\n",
      "------------------------------\n",
      "Feature 'pesticide':\n",
      "False: 0\n",
      "True: 1\n",
      "Unknown: -1\n",
      "------------------------------\n",
      "Feature 'gender':\n",
      "FEMALE: 0\n",
      "MALE: 1\n",
      "Unknown: -1\n",
      "------------------------------\n",
      "Feature 'skin_cancer_history':\n",
      "False: 0\n",
      "True: 1\n",
      "Unknown: -1\n",
      "------------------------------\n",
      "Feature 'cancer_history':\n",
      "False: 0\n",
      "True: 1\n",
      "Unknown: -1\n",
      "------------------------------\n",
      "Feature 'has_piped_water':\n",
      "False: 0\n",
      "True: 1\n",
      "Unknown: -1\n",
      "------------------------------\n",
      "Feature 'has_sewage_system':\n",
      "False: 0\n",
      "True: 1\n",
      "Unknown: -1\n",
      "------------------------------\n",
      "Feature 'grew':\n",
      "FALSE: 0\n",
      "TRUE: 1\n",
      "Unknown: -1\n",
      "------------------------------\n",
      "Feature 'changed':\n",
      "FALSE: 0\n",
      "TRUE: 1\n",
      "Unknown: -1\n",
      "------------------------------\n",
      "Feature 'smoke':\n",
      "False: 0\n",
      "True: 1\n",
      "Unknown: -1\n",
      "------------------------------\n",
      "Feature 'drink':\n",
      "False: 0\n",
      "True: 1\n",
      "Unknown: -1\n",
      "------------------------------\n",
      "Feature 'background_father':\n",
      "BRAZIL: 0\n",
      "GERMANY: 1\n",
      "ITALY: 2\n",
      "NETHERLANDS: 3\n",
      "POLAND: 4\n",
      "POMERANIA: 5\n",
      "PORTUGAL: 6\n",
      "Unknown: -1\n",
      "------------------------------\n",
      "Feature 'background_mother':\n",
      "BRAZIL: 0\n",
      "GERMANY: 1\n",
      "ITALY: 2\n",
      "NETHERLANDS: 3\n",
      "POLAND: 4\n",
      "POMERANIA: 5\n",
      "PORTUGAL: 6\n",
      "SPAIN: 7\n",
      "Unknown: -1\n",
      "------------------------------\n",
      "Feature 'pesticide':\n",
      "False: 0\n",
      "True: 1\n",
      "Unknown: -1\n",
      "------------------------------\n",
      "Feature 'gender':\n",
      "FEMALE: 0\n",
      "MALE: 1\n",
      "Unknown: -1\n",
      "------------------------------\n",
      "Feature 'skin_cancer_history':\n",
      "False: 0\n",
      "True: 1\n",
      "Unknown: -1\n",
      "------------------------------\n",
      "Feature 'cancer_history':\n",
      "False: 0\n",
      "True: 1\n",
      "Unknown: -1\n",
      "------------------------------\n",
      "Feature 'has_piped_water':\n",
      "False: 0\n",
      "True: 1\n",
      "Unknown: -1\n",
      "------------------------------\n",
      "Feature 'has_sewage_system':\n",
      "False: 0\n",
      "True: 1\n",
      "Unknown: -1\n",
      "------------------------------\n",
      "Feature 'grew':\n",
      "FALSE: 0\n",
      "TRUE: 1\n",
      "Unknown: -1\n",
      "------------------------------\n",
      "Feature 'changed':\n",
      "FALSE: 0\n",
      "TRUE: 1\n",
      "Unknown: -1\n",
      "------------------------------\n",
      "Feature 'smoke':\n",
      "False: 0\n",
      "True: 1\n",
      "Unknown: -1\n",
      "------------------------------\n",
      "Feature 'drink':\n",
      "False: 0\n",
      "True: 1\n",
      "Unknown: -1\n",
      "------------------------------\n",
      "Feature 'background_father':\n",
      "BRAZIL: 0\n",
      "GERMANY: 1\n",
      "ITALY: 2\n",
      "NETHERLANDS: 3\n",
      "POLAND: 4\n",
      "POMERANIA: 5\n",
      "PORTUGAL: 6\n",
      "Unknown: -1\n",
      "------------------------------\n",
      "Feature 'background_mother':\n",
      "BRAZIL: 0\n",
      "GERMANY: 1\n",
      "ITALY: 2\n",
      "NETHERLANDS: 3\n",
      "POLAND: 4\n",
      "POMERANIA: 5\n",
      "PORTUGAL: 6\n",
      "SPAIN: 7\n",
      "Unknown: -1\n",
      "------------------------------\n",
      "Feature 'pesticide':\n",
      "False: 0\n",
      "True: 1\n",
      "Unknown: -1\n",
      "------------------------------\n",
      "Feature 'gender':\n",
      "FEMALE: 0\n",
      "MALE: 1\n",
      "Unknown: -1\n",
      "------------------------------\n",
      "Feature 'skin_cancer_history':\n",
      "False: 0\n",
      "True: 1\n",
      "Unknown: -1\n",
      "------------------------------\n",
      "Feature 'cancer_history':\n",
      "False: 0\n",
      "True: 1\n",
      "Unknown: -1\n",
      "------------------------------\n",
      "Feature 'has_piped_water':\n",
      "False: 0\n",
      "True: 1\n",
      "Unknown: -1\n",
      "------------------------------\n",
      "Feature 'has_sewage_system':\n",
      "False: 0\n",
      "True: 1\n",
      "Unknown: -1\n",
      "------------------------------\n",
      "Feature 'grew':\n",
      "FALSE: 0\n",
      "TRUE: 1\n",
      "Unknown: -1\n",
      "------------------------------\n",
      "Feature 'changed':\n",
      "FALSE: 0\n",
      "TRUE: 1\n",
      "Unknown: -1\n",
      "------------------------------\n"
     ]
    }
   ],
   "source": [
    "df_train_2 = preprocess_data(df_train_2)\n",
    "df_train_6 = preprocess_data(df_train_6)\n",
    "df_test_2 = preprocess_data(df_test_2)\n",
    "df_test_6 = preprocess_data(df_test_6)"
   ]
  },
  {
   "cell_type": "code",
   "execution_count": 18,
   "metadata": {},
   "outputs": [],
   "source": [
    "scaler = MinMaxScaler()\n",
    "df_train_2 = scaler.fit_transform(df_train_2)\n",
    "df_train_6 = scaler.fit_transform(df_train_6)\n",
    "df_test_2 = scaler.fit_transform(df_test_2)\n",
    "df_test_6 = scaler.fit_transform(df_test_6)"
   ]
  },
  {
   "cell_type": "code",
   "execution_count": 19,
   "metadata": {},
   "outputs": [
    {
     "name": "stderr",
     "output_type": "stream",
     "text": [
      "C:\\Users\\geyux\\AppData\\Local\\Temp\\ipykernel_34560\\686434273.py:1: SettingWithCopyWarning: \n",
      "A value is trying to be set on a copy of a slice from a DataFrame\n",
      "\n",
      "See the caveats in the documentation: https://pandas.pydata.org/pandas-docs/stable/user_guide/indexing.html#returning-a-view-versus-a-copy\n",
      "  y_train_2.drop(columns='img_id',inplace=True)\n",
      "C:\\Users\\geyux\\AppData\\Local\\Temp\\ipykernel_34560\\686434273.py:3: SettingWithCopyWarning: \n",
      "A value is trying to be set on a copy of a slice from a DataFrame\n",
      "\n",
      "See the caveats in the documentation: https://pandas.pydata.org/pandas-docs/stable/user_guide/indexing.html#returning-a-view-versus-a-copy\n",
      "  y_train_6.drop(columns='img_id',inplace=True)\n",
      "C:\\Users\\geyux\\AppData\\Local\\Temp\\ipykernel_34560\\686434273.py:5: SettingWithCopyWarning: \n",
      "A value is trying to be set on a copy of a slice from a DataFrame\n",
      "\n",
      "See the caveats in the documentation: https://pandas.pydata.org/pandas-docs/stable/user_guide/indexing.html#returning-a-view-versus-a-copy\n",
      "  y_test_2.drop(columns='img_id',inplace=True)\n",
      "C:\\Users\\geyux\\AppData\\Local\\Temp\\ipykernel_34560\\686434273.py:7: SettingWithCopyWarning: \n",
      "A value is trying to be set on a copy of a slice from a DataFrame\n",
      "\n",
      "See the caveats in the documentation: https://pandas.pydata.org/pandas-docs/stable/user_guide/indexing.html#returning-a-view-versus-a-copy\n",
      "  y_test_6.drop(columns='img_id',inplace=True)\n"
     ]
    },
    {
     "data": {
      "text/plain": [
       "array([5, 1, 1, 1, 1, 1, 0, 1, 5, 1, 4, 1, 0, 1, 0, 0, 5, 1, 2, 1, 0, 3,\n",
       "       1, 0, 3, 1, 0, 1, 1, 1, 1, 1, 1, 4, 0, 1, 0, 0, 4, 3, 1, 3, 1, 1,\n",
       "       3, 1, 1, 1, 1, 0, 1, 1, 1, 0, 4, 1, 0, 1, 4, 1, 3, 0, 1, 0, 5, 0,\n",
       "       0, 1, 3, 3, 3, 5, 3, 3, 1, 1, 1, 1, 1, 3, 4, 5, 5, 0, 0, 0, 1, 1,\n",
       "       4, 0, 1, 1, 0, 0, 5, 0, 3, 0, 3, 1, 1, 3, 4, 1, 0, 0, 4, 1, 4, 3,\n",
       "       4, 0, 0, 3, 1, 1, 1, 5, 1, 0, 1, 4, 5, 0, 1, 0, 4, 0, 0, 0, 0, 1,\n",
       "       3, 5, 1, 3, 0, 1, 0, 1, 1, 1, 0, 0, 1, 3, 0, 0, 0, 5, 0, 0, 1, 0,\n",
       "       1, 1, 1, 0, 3, 0, 1, 1, 5, 0, 0, 5, 5, 5, 4, 1, 0, 1, 3, 0, 1, 4,\n",
       "       3, 5, 0, 1, 0, 4, 1, 5, 0, 1, 0, 1, 4, 0, 5, 0, 4, 3, 3, 3, 1, 1,\n",
       "       1, 0, 0, 0, 3, 3, 0, 1, 1, 1, 2, 5, 5, 1, 0, 5, 3, 3, 0, 1, 1, 0,\n",
       "       0, 1, 1, 0, 1, 0, 1, 1, 0, 3], dtype=int64)"
      ]
     },
     "execution_count": 19,
     "metadata": {},
     "output_type": "execute_result"
    }
   ],
   "source": [
    "y_train_2.drop(columns='img_id',inplace=True)\n",
    "y_train_2.values.ravel()\n",
    "y_train_6.drop(columns='img_id',inplace=True)\n",
    "y_train_6.values.ravel()\n",
    "y_test_2.drop(columns='img_id',inplace=True)\n",
    "y_test_2.values.ravel()\n",
    "y_test_6.drop(columns='img_id',inplace=True)\n",
    "y_test_6.values.ravel()"
   ]
  },
  {
   "cell_type": "code",
   "execution_count": 20,
   "metadata": {},
   "outputs": [],
   "source": [
    "def textModel(x_train, y_train, x_test, y_test, class_weights=None):\n",
    "    svm = SVC(kernel='linear', random_state=42)\n",
    "    svm.fit(x_train, y_train)\n",
    "    y_pred = svm.predict(x_test)\n",
    "    print(f'Model 1: {classification_report(y_test, y_pred)}')\n",
    "    \n",
    "    rf = RandomForestClassifier(n_estimators=100, class_weight=class_weights, random_state=42)\n",
    "    rf.fit(x_train, y_train)\n",
    "    y_pred = rf.predict(x_test)\n",
    "    print(f'Model 2: {classification_report(y_test, y_pred)}')\n",
    "\n",
    "    xgb = XGBClassifier(use_label_encoder=False, eval_metric='mlogloss', random_state=42)\n",
    "    xgb.fit(x_train, y_train)\n",
    "    y_pred = xgb.predict(x_test)\n",
    "    print(f'Model 3: {classification_report(y_test, y_pred)}')\n",
    "\n",
    "    knn = KNeighborsClassifier(n_neighbors=5)\n",
    "    knn.fit(x_train, y_train)\n",
    "    y_pred = knn.predict(x_test)\n",
    "    print(f'Model 4: {classification_report(y_test, y_pred)}')\n",
    "\n",
    "    num_class = len(np.unique(y_train))\n",
    "    if num_class == 2:\n",
    "        num_class = 1\n",
    "\n",
    "    lgbm = LGBMClassifier(num_class=num_class, class_weight=class_weights, random_state=42, verbose=-1)\n",
    "    lgbm.fit(x_train, y_train)\n",
    "    y_pred = lgbm.predict(x_test)\n",
    "    print(f'Model 5: {classification_report(y_test, y_pred)}')\n",
    "\n",
    "    return svm, rf, xgb, knn, lgbm"
   ]
  },
  {
   "cell_type": "code",
   "execution_count": 21,
   "metadata": {},
   "outputs": [
    {
     "name": "stdout",
     "output_type": "stream",
     "text": [
      "Model 1:               precision    recall  f1-score   support\n",
      "\n",
      "           0       0.55      0.85      0.67       122\n",
      "           1       0.56      0.21      0.31       108\n",
      "\n",
      "    accuracy                           0.55       230\n",
      "   macro avg       0.56      0.53      0.49       230\n",
      "weighted avg       0.56      0.55      0.50       230\n",
      "\n"
     ]
    },
    {
     "name": "stderr",
     "output_type": "stream",
     "text": [
      "e:\\Anaconda\\envs\\tensorflow\\lib\\site-packages\\sklearn\\utils\\validation.py:1183: DataConversionWarning: A column-vector y was passed when a 1d array was expected. Please change the shape of y to (n_samples, ), for example using ravel().\n",
      "  y = column_or_1d(y, warn=True)\n",
      "e:\\Anaconda\\envs\\tensorflow\\lib\\site-packages\\sklearn\\base.py:1152: DataConversionWarning: A column-vector y was passed when a 1d array was expected. Please change the shape of y to (n_samples,), for example using ravel().\n",
      "  return fit_method(estimator, *args, **kwargs)\n"
     ]
    },
    {
     "name": "stdout",
     "output_type": "stream",
     "text": [
      "Model 2:               precision    recall  f1-score   support\n",
      "\n",
      "           0       0.50      0.60      0.55       122\n",
      "           1       0.42      0.33      0.37       108\n",
      "\n",
      "    accuracy                           0.47       230\n",
      "   macro avg       0.46      0.47      0.46       230\n",
      "weighted avg       0.47      0.47      0.47       230\n",
      "\n",
      "Model 3:               precision    recall  f1-score   support\n",
      "\n",
      "           0       0.60      0.50      0.55       122\n",
      "           1       0.53      0.63      0.57       108\n",
      "\n",
      "    accuracy                           0.56       230\n",
      "   macro avg       0.57      0.56      0.56       230\n",
      "weighted avg       0.57      0.56      0.56       230\n",
      "\n"
     ]
    },
    {
     "name": "stderr",
     "output_type": "stream",
     "text": [
      "e:\\Anaconda\\envs\\tensorflow\\lib\\site-packages\\sklearn\\neighbors\\_classification.py:233: DataConversionWarning: A column-vector y was passed when a 1d array was expected. Please change the shape of y to (n_samples,), for example using ravel().\n",
      "  return self._fit(X, y)\n"
     ]
    },
    {
     "name": "stdout",
     "output_type": "stream",
     "text": [
      "Model 4:               precision    recall  f1-score   support\n",
      "\n",
      "           0       0.55      0.47      0.51       122\n",
      "           1       0.49      0.57      0.53       108\n",
      "\n",
      "    accuracy                           0.52       230\n",
      "   macro avg       0.52      0.52      0.52       230\n",
      "weighted avg       0.52      0.52      0.52       230\n",
      "\n",
      "Model 5:               precision    recall  f1-score   support\n",
      "\n",
      "           0       0.54      0.40      0.46       122\n",
      "           1       0.47      0.61      0.53       108\n",
      "\n",
      "    accuracy                           0.50       230\n",
      "   macro avg       0.51      0.51      0.50       230\n",
      "weighted avg       0.51      0.50      0.49       230\n",
      "\n"
     ]
    },
    {
     "name": "stderr",
     "output_type": "stream",
     "text": [
      "e:\\Anaconda\\envs\\tensorflow\\lib\\site-packages\\sklearn\\preprocessing\\_label.py:97: DataConversionWarning: A column-vector y was passed when a 1d array was expected. Please change the shape of y to (n_samples, ), for example using ravel().\n",
      "  y = column_or_1d(y, warn=True)\n",
      "e:\\Anaconda\\envs\\tensorflow\\lib\\site-packages\\sklearn\\preprocessing\\_label.py:132: DataConversionWarning: A column-vector y was passed when a 1d array was expected. Please change the shape of y to (n_samples, ), for example using ravel().\n",
      "  y = column_or_1d(y, dtype=self.classes_.dtype, warn=True)\n"
     ]
    }
   ],
   "source": [
    "svm1, rf1, xgb1, knn1, lgbm1 = textModel(df_train_2,y_train_2,df_test_2,y_test_2)"
   ]
  },
  {
   "cell_type": "code",
   "execution_count": 22,
   "metadata": {},
   "outputs": [
    {
     "name": "stdout",
     "output_type": "stream",
     "text": [
      "Model 1:               precision    recall  f1-score   support\n",
      "\n",
      "           0       0.29      0.51      0.37        69\n",
      "           1       0.31      0.23      0.26        88\n",
      "           2       0.00      0.00      0.00         2\n",
      "           3       0.10      0.10      0.10        31\n",
      "           4       0.00      0.00      0.00        18\n",
      "           5       0.00      0.00      0.00        22\n",
      "\n",
      "    accuracy                           0.25       230\n",
      "   macro avg       0.12      0.14      0.12       230\n",
      "weighted avg       0.22      0.25      0.23       230\n",
      "\n"
     ]
    },
    {
     "name": "stderr",
     "output_type": "stream",
     "text": [
      "e:\\Anaconda\\envs\\tensorflow\\lib\\site-packages\\sklearn\\utils\\validation.py:1183: DataConversionWarning: A column-vector y was passed when a 1d array was expected. Please change the shape of y to (n_samples, ), for example using ravel().\n",
      "  y = column_or_1d(y, warn=True)\n",
      "e:\\Anaconda\\envs\\tensorflow\\lib\\site-packages\\sklearn\\base.py:1152: DataConversionWarning: A column-vector y was passed when a 1d array was expected. Please change the shape of y to (n_samples,), for example using ravel().\n",
      "  return fit_method(estimator, *args, **kwargs)\n"
     ]
    },
    {
     "name": "stdout",
     "output_type": "stream",
     "text": [
      "Model 2:               precision    recall  f1-score   support\n",
      "\n",
      "           0       0.29      0.42      0.34        69\n",
      "           1       0.35      0.26      0.30        88\n",
      "           2       0.00      0.00      0.00         2\n",
      "           3       0.00      0.00      0.00        31\n",
      "           4       0.00      0.00      0.00        18\n",
      "           5       0.14      0.14      0.14        22\n",
      "\n",
      "    accuracy                           0.24       230\n",
      "   macro avg       0.13      0.14      0.13       230\n",
      "weighted avg       0.24      0.24      0.23       230\n",
      "\n",
      "Model 3:               precision    recall  f1-score   support\n",
      "\n",
      "           0       0.31      0.32      0.32        69\n",
      "           1       0.38      0.19      0.26        88\n",
      "           2       0.00      0.00      0.00         2\n",
      "           3       0.12      0.16      0.14        31\n",
      "           4       0.19      0.28      0.22        18\n",
      "           5       0.13      0.18      0.15        22\n",
      "\n",
      "    accuracy                           0.23       230\n",
      "   macro avg       0.19      0.19      0.18       230\n",
      "weighted avg       0.28      0.23      0.24       230\n",
      "\n",
      "Model 4:               precision    recall  f1-score   support\n",
      "\n",
      "           0       0.31      0.41      0.35        69\n",
      "           1       0.39      0.35      0.37        88\n",
      "           2       0.00      0.00      0.00         2\n",
      "           3       0.18      0.10      0.12        31\n",
      "           4       0.00      0.00      0.00        18\n",
      "           5       0.05      0.05      0.05        22\n",
      "\n",
      "    accuracy                           0.27       230\n",
      "   macro avg       0.15      0.15      0.15       230\n",
      "weighted avg       0.27      0.27      0.27       230\n",
      "\n"
     ]
    },
    {
     "name": "stderr",
     "output_type": "stream",
     "text": [
      "e:\\Anaconda\\envs\\tensorflow\\lib\\site-packages\\sklearn\\neighbors\\_classification.py:233: DataConversionWarning: A column-vector y was passed when a 1d array was expected. Please change the shape of y to (n_samples,), for example using ravel().\n",
      "  return self._fit(X, y)\n",
      "e:\\Anaconda\\envs\\tensorflow\\lib\\site-packages\\sklearn\\preprocessing\\_label.py:97: DataConversionWarning: A column-vector y was passed when a 1d array was expected. Please change the shape of y to (n_samples, ), for example using ravel().\n",
      "  y = column_or_1d(y, warn=True)\n",
      "e:\\Anaconda\\envs\\tensorflow\\lib\\site-packages\\sklearn\\preprocessing\\_label.py:132: DataConversionWarning: A column-vector y was passed when a 1d array was expected. Please change the shape of y to (n_samples, ), for example using ravel().\n",
      "  y = column_or_1d(y, dtype=self.classes_.dtype, warn=True)\n"
     ]
    },
    {
     "name": "stdout",
     "output_type": "stream",
     "text": [
      "Model 5:               precision    recall  f1-score   support\n",
      "\n",
      "           0       0.27      0.29      0.28        69\n",
      "           1       0.41      0.27      0.33        88\n",
      "           2       0.00      0.00      0.00         2\n",
      "           3       0.08      0.06      0.07        31\n",
      "           4       0.14      0.22      0.17        18\n",
      "           5       0.17      0.18      0.17        22\n",
      "\n",
      "    accuracy                           0.23       230\n",
      "   macro avg       0.18      0.17      0.17       230\n",
      "weighted avg       0.27      0.23      0.25       230\n",
      "\n"
     ]
    }
   ],
   "source": [
    "svm2, rf2, xgb2, knn2, lgbm2 = textModel(df_train_6,y_train_6,df_test_6,y_test_6)"
   ]
  },
  {
   "cell_type": "code",
   "execution_count": 23,
   "metadata": {},
   "outputs": [],
   "source": [
    "estimators1 = [('svc', svm1), ('rf', rf1), ('xgb', xgb1), ('knn', knn1), ('lgbm', lgbm1)]\n",
    "estimators2 = [('svc', svm2), ('rf', rf2), ('xgb', xgb2), ('knn', knn2), ('lgbm', lgbm2)]\n",
    "stack_model1 = StackingClassifier(estimators=estimators1, final_estimator=XGBClassifier())\n",
    "stack_model2 = StackingClassifier(estimators=estimators2, final_estimator=XGBClassifier())"
   ]
  },
  {
   "cell_type": "code",
   "execution_count": 24,
   "metadata": {},
   "outputs": [
    {
     "name": "stderr",
     "output_type": "stream",
     "text": [
      "e:\\Anaconda\\envs\\tensorflow\\lib\\site-packages\\sklearn\\preprocessing\\_label.py:97: DataConversionWarning: A column-vector y was passed when a 1d array was expected. Please change the shape of y to (n_samples, ), for example using ravel().\n",
      "  y = column_or_1d(y, warn=True)\n",
      "e:\\Anaconda\\envs\\tensorflow\\lib\\site-packages\\sklearn\\preprocessing\\_label.py:132: DataConversionWarning: A column-vector y was passed when a 1d array was expected. Please change the shape of y to (n_samples, ), for example using ravel().\n",
      "  y = column_or_1d(y, dtype=self.classes_.dtype, warn=True)\n"
     ]
    },
    {
     "name": "stdout",
     "output_type": "stream",
     "text": [
      "Stacking Method for 2 Class Classification Result:\n",
      "              precision    recall  f1-score   support\n",
      "\n",
      "           0       0.57      0.61      0.59       122\n",
      "           1       0.52      0.48      0.50       108\n",
      "\n",
      "    accuracy                           0.55       230\n",
      "   macro avg       0.54      0.54      0.54       230\n",
      "weighted avg       0.55      0.55      0.55       230\n",
      "\n"
     ]
    }
   ],
   "source": [
    "# fit the model on the training data\n",
    "stack_model1.fit(df_train_2, y_train_2)\n",
    "# make predictions\n",
    "y_test_2_pred = stack_model1.predict(df_test_2)\n",
    "# calculate the classification report\n",
    "stack_model1_result = classification_report(y_test_2, y_test_2_pred)\n",
    "print(f'Stacking Method for 2 Class Classification Result:\\n{stack_model1_result}')"
   ]
  },
  {
   "cell_type": "code",
   "execution_count": 25,
   "metadata": {},
   "outputs": [
    {
     "name": "stderr",
     "output_type": "stream",
     "text": [
      "e:\\Anaconda\\envs\\tensorflow\\lib\\site-packages\\sklearn\\preprocessing\\_label.py:97: DataConversionWarning: A column-vector y was passed when a 1d array was expected. Please change the shape of y to (n_samples, ), for example using ravel().\n",
      "  y = column_or_1d(y, warn=True)\n",
      "e:\\Anaconda\\envs\\tensorflow\\lib\\site-packages\\sklearn\\preprocessing\\_label.py:132: DataConversionWarning: A column-vector y was passed when a 1d array was expected. Please change the shape of y to (n_samples, ), for example using ravel().\n",
      "  y = column_or_1d(y, dtype=self.classes_.dtype, warn=True)\n"
     ]
    },
    {
     "name": "stdout",
     "output_type": "stream",
     "text": [
      "Stacking Method for 6 Class Classification Result:\n",
      "              precision    recall  f1-score   support\n",
      "\n",
      "           0       0.28      0.32      0.30        69\n",
      "           1       0.33      0.25      0.29        88\n",
      "           2       0.00      0.00      0.00         2\n",
      "           3       0.10      0.10      0.10        31\n",
      "           4       0.00      0.00      0.00        18\n",
      "           5       0.09      0.09      0.09        22\n",
      "\n",
      "    accuracy                           0.21       230\n",
      "   macro avg       0.13      0.13      0.13       230\n",
      "weighted avg       0.23      0.21      0.22       230\n",
      "\n"
     ]
    }
   ],
   "source": [
    "stack_model2.fit(df_train_6, y_train_6)\n",
    "y_test_6_pred = stack_model2.predict(df_test_6)\n",
    "stack_model2_result = classification_report(y_test_6, y_test_6_pred)\n",
    "print(f'Stacking Method for 6 Class Classification Result:\\n{stack_model2_result}')"
   ]
  },
  {
   "cell_type": "code",
   "execution_count": 26,
   "metadata": {},
   "outputs": [
    {
     "data": {
      "text/plain": [
       "['G:\\\\HSUHK\\\\COM6003\\\\project\\\\archive\\\\model_resultfinal_stack_6.joblib']"
      ]
     },
     "execution_count": 26,
     "metadata": {},
     "output_type": "execute_result"
    }
   ],
   "source": [
    "joblib.dump(stack_model1_result, 'G:\\\\HSUHK\\\\COM6003\\\\project\\\\archive\\\\model_resultfinal_stack_2.joblib')\n",
    "joblib.dump(stack_model2_result, 'G:\\\\HSUHK\\\\COM6003\\\\project\\\\archive\\\\model_resultfinal_stack_6.joblib')"
   ]
  }
 ],
 "metadata": {
  "kernelspec": {
   "display_name": "tensorflow",
   "language": "python",
   "name": "python3"
  },
  "language_info": {
   "codemirror_mode": {
    "name": "ipython",
    "version": 3
   },
   "file_extension": ".py",
   "mimetype": "text/x-python",
   "name": "python",
   "nbconvert_exporter": "python",
   "pygments_lexer": "ipython3",
   "version": "3.8.19"
  }
 },
 "nbformat": 4,
 "nbformat_minor": 2
}
