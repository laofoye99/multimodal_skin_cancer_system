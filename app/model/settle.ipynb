{
 "cells": [
  {
   "cell_type": "code",
   "execution_count": 6,
   "metadata": {},
   "outputs": [],
   "source": [
    "import os\n",
    "import re\n",
    "import pandas as pd\n",
    "from sklearn.preprocessing import LabelEncoder"
   ]
  },
  {
   "cell_type": "code",
   "execution_count": 11,
   "metadata": {},
   "outputs": [
    {
     "name": "stdout",
     "output_type": "stream",
     "text": [
      "ACK: 0\n",
      "BCC: 1\n",
      "MEL: 2\n",
      "NEV: 3\n",
      "SCC: 4\n",
      "SEK: 5\n"
     ]
    }
   ],
   "source": [
    "metadata = pd.read_csv('G:\\\\HSUHK\\\\COM6003\\\\app\\\\archive\\\\metadata.csv')\n",
    "enc = LabelEncoder()\n",
    "metadata['diagnostic'] = enc.fit_transform(metadata['diagnostic'])\n",
    "encoding_mapping = dict(zip(enc.classes_, range(len(enc.classes_))))\n",
    "for category, encoding in encoding_mapping.items():\n",
    "    print(f\"{category}: {encoding}\")\n"
   ]
  }
 ],
 "metadata": {
  "kernelspec": {
   "display_name": "Python 3",
   "language": "python",
   "name": "python3"
  },
  "language_info": {
   "codemirror_mode": {
    "name": "ipython",
    "version": 3
   },
   "file_extension": ".py",
   "mimetype": "text/x-python",
   "name": "python",
   "nbconvert_exporter": "python",
   "pygments_lexer": "ipython3",
   "version": "3.11.8"
  }
 },
 "nbformat": 4,
 "nbformat_minor": 2
}
